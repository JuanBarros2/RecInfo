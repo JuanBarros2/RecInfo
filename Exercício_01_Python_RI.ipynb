{
  "nbformat": 4,
  "nbformat_minor": 0,
  "metadata": {
    "colab": {
      "name": "Copy of Exercício 01 - Python - RI.ipynb",
      "provenance": [],
      "collapsed_sections": [],
      "include_colab_link": true
    },
    "kernelspec": {
      "name": "python3",
      "display_name": "Python 3"
    }
  },
  "cells": [
    {
      "cell_type": "markdown",
      "metadata": {
        "id": "view-in-github",
        "colab_type": "text"
      },
      "source": [
        "<a href=\"https://colab.research.google.com/github/JuanBarros2/RecInfo/blob/master/Exerc%C3%ADcio_01_Python_RI.ipynb\" target=\"_parent\"><img src=\"https://colab.research.google.com/assets/colab-badge.svg\" alt=\"Open In Colab\"/></a>"
      ]
    },
    {
      "cell_type": "markdown",
      "metadata": {
        "id": "GMNUE0d5gqnn",
        "colab_type": "text"
      },
      "source": [
        "# List Comprehensions"
      ]
    },
    {
      "cell_type": "markdown",
      "metadata": {
        "id": "dV0S-dOZgxQv",
        "colab_type": "text"
      },
      "source": [
        "Nos exercícios abaixo, use list comprehensions pra criar as listas de acordo com o que for pedido:"
      ]
    },
    {
      "cell_type": "markdown",
      "metadata": {
        "id": "b7ofnef0hEpo",
        "colab_type": "text"
      },
      "source": [
        "### Número pares até 30"
      ]
    },
    {
      "cell_type": "code",
      "metadata": {
        "id": "8KEG5McMflhK",
        "colab_type": "code",
        "outputId": "fbe48c7a-1340-494c-901d-a147867d3a89",
        "colab": {
          "base_uri": "https://localhost:8080/",
          "height": 34
        }
      },
      "source": [
        "[2 * i for i in range(1, 16)]"
      ],
      "execution_count": 0,
      "outputs": [
        {
          "output_type": "execute_result",
          "data": {
            "text/plain": [
              "1"
            ]
          },
          "metadata": {
            "tags": []
          },
          "execution_count": 8
        }
      ]
    },
    {
      "cell_type": "markdown",
      "metadata": {
        "id": "x6T15otDhVnP",
        "colab_type": "text"
      },
      "source": [
        "<font color='red'>**Saída esperada:**</font>\n",
        "\n",
        "```py\n",
        "[2, 4, 6, 8, 10, 12, 14, 16, 18, 20, 22, 24, 26, 28, 30]\n",
        "```"
      ]
    },
    {
      "cell_type": "markdown",
      "metadata": {
        "id": "M6efLUcUhrNe",
        "colab_type": "text"
      },
      "source": [
        "### Quadrado dos números ímpares até 10"
      ]
    },
    {
      "cell_type": "code",
      "metadata": {
        "id": "3Xgr5-FahQES",
        "colab_type": "code",
        "colab": {}
      },
      "source": [
        "#insira seu código aqui"
      ],
      "execution_count": 0,
      "outputs": []
    },
    {
      "cell_type": "markdown",
      "metadata": {
        "id": "Okrm-gL2h11Y",
        "colab_type": "text"
      },
      "source": [
        "<font color='red'>**Saída esperada:**</font>\n",
        "\n",
        "```py\n",
        "[1, 9, 25, 49, 81]\n",
        "```"
      ]
    },
    {
      "cell_type": "markdown",
      "metadata": {
        "id": "6mMcmggUi06I",
        "colab_type": "text"
      },
      "source": [
        "### A idade de cada pessoa de acordo com os anos de nascimento"
      ]
    },
    {
      "cell_type": "code",
      "metadata": {
        "id": "6DlZTIqthzsE",
        "colab_type": "code",
        "colab": {}
      },
      "source": [
        "list_years = [1991, 1994, 1995, 1999, 2000, 2004, 2010]\n",
        "\n",
        "#insira seu código aqui"
      ],
      "execution_count": 0,
      "outputs": []
    },
    {
      "cell_type": "markdown",
      "metadata": {
        "id": "lj9VmxAijW1f",
        "colab_type": "text"
      },
      "source": [
        "<font color='red'>**Saída esperada:**</font>\n",
        "\n",
        "```py\n",
        "[28, 25, 24, 20, 19, 15, 9]\n",
        "```"
      ]
    },
    {
      "cell_type": "markdown",
      "metadata": {
        "id": "IgyUMONljeq5",
        "colab_type": "text"
      },
      "source": [
        "# Dictionary Comprehensions"
      ]
    },
    {
      "cell_type": "markdown",
      "metadata": {
        "id": "dp1Z7NpFj-9W",
        "colab_type": "text"
      },
      "source": [
        "Em Python, também é possível utilizar a mesma lógica das list comprehensions para criar dicionários. Portanto, crie os dicionários abaixo de acordo com o pedido no exercício."
      ]
    },
    {
      "cell_type": "markdown",
      "metadata": {
        "id": "gMqrWmx2jhuG",
        "colab_type": "text"
      },
      "source": [
        "### Chaves: números pares até 10; Valores: Cubo das chaves"
      ]
    },
    {
      "cell_type": "code",
      "metadata": {
        "id": "KNqkjoAQjS-u",
        "colab_type": "code",
        "colab": {}
      },
      "source": [
        "#insira seu código aqui"
      ],
      "execution_count": 0,
      "outputs": []
    },
    {
      "cell_type": "markdown",
      "metadata": {
        "id": "1fj-l3qnj3CQ",
        "colab_type": "text"
      },
      "source": [
        "<font color='red'>**Saída esperada:**</font>\n",
        "\n",
        "```py\n",
        "{2: 8, 4: 64, 6: 216, 8: 512, 10: 1000}\n",
        "```"
      ]
    },
    {
      "cell_type": "markdown",
      "metadata": {
        "id": "_ERTFG8nT4Uq",
        "colab_type": "text"
      },
      "source": [
        "### Chaves: elementos da lista; Valores: qtde. de vezes que o elemente apareceu na lista"
      ]
    },
    {
      "cell_type": "code",
      "metadata": {
        "id": "EpekTfXkkwBs",
        "colab_type": "code",
        "colab": {}
      },
      "source": [
        "test_list = [3, 3, 2, 1, 1, 3, 2, 2, 1, 3, 0]\n",
        "\n",
        "#insira seu código aqui"
      ],
      "execution_count": 0,
      "outputs": []
    },
    {
      "cell_type": "markdown",
      "metadata": {
        "id": "iF_QzXwyT1Mu",
        "colab_type": "text"
      },
      "source": [
        "<font color='red'>**Saída esperada:**</font>\n",
        "\n",
        "```py\n",
        "{0: 1, 1: 3, 2: 3, 3: 4}\n",
        "```"
      ]
    },
    {
      "cell_type": "markdown",
      "metadata": {
        "id": "z9fsUAeEkay8",
        "colab_type": "text"
      },
      "source": [
        "### Uma tupla ($x$, $y$), onde $x$ representa a n-ésima letra de uma string e $y$ = (n+1)-ésima letra "
      ]
    },
    {
      "cell_type": "code",
      "metadata": {
        "id": "WzhtCwEyj1Ns",
        "colab_type": "code",
        "colab": {}
      },
      "source": [
        "string = 'python'\n",
        "\n",
        "#insira seu código aqui"
      ],
      "execution_count": 0,
      "outputs": []
    },
    {
      "cell_type": "markdown",
      "metadata": {
        "id": "X9ujBr9olv_2",
        "colab_type": "text"
      },
      "source": [
        "<font color='red'>**Saída esperada:**</font>\n",
        "\n",
        "```py\n",
        "[('p', 'y'), ('y', 't'), ('t', 'h'), ('h', 'o'), ('o', 'n')]\n",
        "```"
      ]
    },
    {
      "cell_type": "markdown",
      "metadata": {
        "id": "da7KJhMKmQn5",
        "colab_type": "text"
      },
      "source": [
        "# Funções"
      ]
    },
    {
      "cell_type": "markdown",
      "metadata": {
        "id": "e2D4kudonqNh",
        "colab_type": "text"
      },
      "source": [
        "Crie uma função em python para cada instrução abaixo."
      ]
    },
    {
      "cell_type": "markdown",
      "metadata": {
        "id": "zNA4HjDbmUdC",
        "colab_type": "text"
      },
      "source": [
        "- **nome**: `by_six(x)`\n",
        "- **entrada**: $x$ (número inteiro)\n",
        "- **retorno**: booleano que indica se um número é divísivel por 6"
      ]
    },
    {
      "cell_type": "code",
      "metadata": {
        "id": "QMmJHcDXmTJu",
        "colab_type": "code",
        "colab": {}
      },
      "source": [
        "#insira seu código aqui\n",
        "\n",
        "\n",
        "# não altere o código abaixo\n",
        "test_list = list(range(15))\n",
        "for x in test_list:\n",
        "    print(x, by_six(x))"
      ],
      "execution_count": 0,
      "outputs": []
    },
    {
      "cell_type": "markdown",
      "metadata": {
        "id": "-mZ_QbT9pdlB",
        "colab_type": "text"
      },
      "source": [
        "<font color='red'>**Saída esperada:**</font>\n",
        "\n",
        "```py\n",
        "0 True\n",
        "1 False\n",
        "2 False\n",
        "3 False\n",
        "4 False\n",
        "5 False\n",
        "6 True\n",
        "7 False\n",
        "8 False\n",
        "9 False\n",
        "10 False\n",
        "11 False\n",
        "12 True\n",
        "13 False\n",
        "14 False\n",
        "```"
      ]
    },
    {
      "cell_type": "markdown",
      "metadata": {
        "id": "L5TbGIPnp4Fu",
        "colab_type": "text"
      },
      "source": [
        "- **nome**: `add_lists(list_1, list_2)`\n",
        "- **entrada**: duas listas de números inteiros e de mesmo tamanho\n",
        "- **retorno**: lista com a soma dos elementos na mesma posição"
      ]
    },
    {
      "cell_type": "code",
      "metadata": {
        "id": "2TxlKG-GqGWG",
        "colab_type": "code",
        "colab": {}
      },
      "source": [
        "#insira seu código aqui\n",
        "\n",
        "\n",
        "# não altere o código abaixo\n",
        "list_1 = [1, 2, 3, 4, 5]\n",
        "list_2 = [7, 9, 6, 4, 0]\n",
        "\n",
        "add_lists(list_1, list_2)"
      ],
      "execution_count": 0,
      "outputs": []
    },
    {
      "cell_type": "markdown",
      "metadata": {
        "id": "2NvClEShqa82",
        "colab_type": "text"
      },
      "source": [
        "<font color='red'>**Saída esperada:**</font>\n",
        "\n",
        "```py\n",
        "[8, 11, 9, 8, 5]\n",
        "```"
      ]
    },
    {
      "cell_type": "markdown",
      "metadata": {
        "id": "kb23WI9moVYn",
        "colab_type": "text"
      },
      "source": [
        "- **nome**: `remove_character_from_word(word, char)`\n",
        "- **entrada**: duas strings (`word` e `char`)\n",
        "- **retorno**: string `word` sem os caracteres iguais a `char`"
      ]
    },
    {
      "cell_type": "code",
      "metadata": {
        "id": "2cbhuSg3o8Ra",
        "colab_type": "code",
        "colab": {}
      },
      "source": [
        "#insira seu código aqui\n",
        "\n",
        "\n",
        "# não altere o código abaixo\n",
        "word = 'abracadabra'\n",
        "remove_character_from_word(word, 'a')"
      ],
      "execution_count": 0,
      "outputs": []
    },
    {
      "cell_type": "markdown",
      "metadata": {
        "id": "isn0EtO9pXuK",
        "colab_type": "text"
      },
      "source": [
        "<font color='red'>**Saída esperada:**</font>\n",
        "\n",
        "```py\n",
        "'brcdbr'\n",
        "```"
      ]
    },
    {
      "cell_type": "markdown",
      "metadata": {
        "id": "S0CoCR5WXFCy",
        "colab_type": "text"
      },
      "source": [
        "- **nome**: `simple_tokenization(sentence)`\n",
        "- **entrada**: uma string representando uma frase\n",
        "- **retorno**: conjunto de palavras da frase (sem repetição)\n",
        "\n",
        "A **tokenização** é o processo de dividir uma sentença em uma lista de palavras. Nesse exercício, nós vamos implementar uma tokenização simples e alterá-la pra que o resultado da nossa tokenização não tenha palavras repetidas.\n"
      ]
    },
    {
      "cell_type": "code",
      "metadata": {
        "id": "3NbNU9PxYbhk",
        "colab_type": "code",
        "colab": {}
      },
      "source": [
        "#insira seu código aqui\n",
        "\n",
        "\n",
        "# não altere o código abaixo\n",
        "test_sentence = 'I love ice cream as much as I love myself'\n",
        "simple_tokenization(test_sentence)"
      ],
      "execution_count": 0,
      "outputs": []
    },
    {
      "cell_type": "markdown",
      "metadata": {
        "id": "GCMXCobIaXjE",
        "colab_type": "text"
      },
      "source": [
        "<font color='red'>**Saída esperada:**</font>\n",
        "\n",
        "```py\n",
        "{'I', 'as', 'cream', 'ice', 'love', 'much', 'myself'}\n",
        "```"
      ]
    },
    {
      "cell_type": "code",
      "metadata": {
        "id": "26dov806aE-7",
        "colab_type": "code",
        "colab": {}
      },
      "source": [
        ""
      ],
      "execution_count": 0,
      "outputs": []
    }
  ]
}